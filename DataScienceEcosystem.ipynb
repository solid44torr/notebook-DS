{
 "cells": [
  {
   "cell_type": "markdown",
   "id": "963cc532-0d1c-407d-91ed-96bf8d007ff6",
   "metadata": {},
   "source": [
    "# Data Science Tools and Ecosystems"
   ]
  },
  {
   "cell_type": "markdown",
   "id": "eedaefcb-4de8-4402-bde9-a2851d811c15",
   "metadata": {},
   "source": [
    "## In this notebook, Data Science Tools and Ecosystem are summarized.\n"
   ]
  },
  {
   "cell_type": "markdown",
   "id": "84ecf996-6dbf-4770-9453-0d6a614a57db",
   "metadata": {},
   "source": [
    "## Some of the popular languages that Data Scientists use are: \n",
    "1. r.\n",
    "2. Julia\n",
    "3. Python"
   ]
  },
  {
   "cell_type": "markdown",
   "id": "3354993a-8301-4dc3-a6e4-daa126b615c3",
   "metadata": {},
   "source": [
    "## Some of the commonly used libraries used by Data Scientists include: \n",
    "1. NumPy\n",
    "2. MatPotLib\n",
    "3. Scypi"
   ]
  },
  {
   "cell_type": "markdown",
   "id": "eaaf1f6c-497d-4cf3-9f9b-4838fb91d34d",
   "metadata": {
    "jupyter": {
     "source_hidden": true
    }
   },
   "source": [
    "|Data Science Tools|\n",
    "|---|\n",
    "|SAS|\n",
    "|Apache Hadoop|\n",
    "|Tensor Flow|\n"
   ]
  },
  {
   "cell_type": "markdown",
   "id": "f524ef88-e476-45c4-9a48-c10a246af31c",
   "metadata": {},
   "source": [
    "## Below are a few examples of evaluating arithmetic expressions in Python."
   ]
  },
  {
   "cell_type": "markdown",
   "id": "806647fa-39a4-4edf-83c6-6a055da90314",
   "metadata": {},
   "source": [
    "2*3*4\n"
   ]
  },
  {
   "cell_type": "code",
   "execution_count": 12,
   "id": "c080bb8a-ab57-4d60-ad32-3cc11c463e1e",
   "metadata": {},
   "outputs": [
    {
     "data": {
      "text/plain": [
       "60"
      ]
     },
     "execution_count": 12,
     "metadata": {},
     "output_type": "execute_result"
    }
   ],
   "source": [
    "5*6*2"
   ]
  },
  {
   "cell_type": "markdown",
   "id": "61137d96-0a0e-4b19-b48a-81e4690faa63",
   "metadata": {},
   "source": [
    "##### Create a code cell to multiply and add numbers "
   ]
  },
  {
   "cell_type": "code",
   "execution_count": 16,
   "id": "4874d10c-eb1a-449e-adc8-e48b094a648a",
   "metadata": {},
   "outputs": [
    {
     "data": {
      "text/plain": [
       "17"
      ]
     },
     "execution_count": 16,
     "metadata": {},
     "output_type": "execute_result"
    }
   ],
   "source": [
    "(3*4)+5"
   ]
  },
  {
   "cell_type": "markdown",
   "id": "d1fd83d8-5c28-497b-8b43-273fc4d1de90",
   "metadata": {},
   "source": [
    "####  This a simple arithmetic expression to mutiply then add integers\n"
   ]
  },
  {
   "cell_type": "markdown",
   "id": "da712707-586a-4f45-afc0-f5ffee6b6749",
   "metadata": {},
   "source": [
    "### this will convert 200 minutes to hours by diving by 60"
   ]
  },
  {
   "cell_type": "code",
   "execution_count": 17,
   "id": "39761542-ef1d-43d0-8356-54eeefef75fd",
   "metadata": {},
   "outputs": [
    {
     "data": {
      "text/plain": [
       "3.3333333333333335"
      ]
     },
     "execution_count": 17,
     "metadata": {},
     "output_type": "execute_result"
    }
   ],
   "source": [
    "200/60"
   ]
  },
  {
   "cell_type": "markdown",
   "id": "c3bc1941-43e9-4b24-bbcf-c4ccfbe26a0b",
   "metadata": {},
   "source": [
    "__Objective__\n",
    "\n",
    "* R\n",
    "* Python \n",
    "* Julia\n"
   ]
  },
  {
   "cell_type": "markdown",
   "id": "abea4934-87d0-4895-8c0b-2754e4ededf7",
   "metadata": {},
   "source": [
    "# Author : Jose Torres"
   ]
  },
  {
   "cell_type": "code",
   "execution_count": null,
   "id": "f6dfbfbd-ea9e-4517-a3f5-a5d672f729f4",
   "metadata": {},
   "outputs": [],
   "source": []
  }
 ],
 "metadata": {
  "kernelspec": {
   "display_name": "Python 3 (ipykernel)",
   "language": "python",
   "name": "python3"
  },
  "language_info": {
   "codemirror_mode": {
    "name": "ipython",
    "version": 3
   },
   "file_extension": ".py",
   "mimetype": "text/x-python",
   "name": "python",
   "nbconvert_exporter": "python",
   "pygments_lexer": "ipython3",
   "version": "3.12.5"
  }
 },
 "nbformat": 4,
 "nbformat_minor": 5
}
